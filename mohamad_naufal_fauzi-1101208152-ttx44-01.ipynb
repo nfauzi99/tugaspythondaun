{
  "nbformat": 4,
  "nbformat_minor": 0,
  "metadata": {
    "colab": {
      "name": "Untitled5.ipynb",
      "provenance": [],
      "mount_file_id": "1ESnYBNnMGXGYEGVF0bEz2XrvxetSCwP-",
      "authorship_tag": "ABX9TyMPr1QKSE2nZC6keyOVw3qJ",
      "include_colab_link": true
    },
    "kernelspec": {
      "name": "python3",
      "display_name": "Python 3"
    }
  },
  "cells": [
    {
      "cell_type": "markdown",
      "metadata": {
        "id": "view-in-github",
        "colab_type": "text"
      },
      "source": [
        "<a href=\"https://colab.research.google.com/github/nfauzi99/tugaspythondaun/blob/main/mohamad_naufal_fauzi-1101208152-ttx44-01.ipynb\" target=\"_parent\"><img src=\"https://colab.research.google.com/assets/colab-badge.svg\" alt=\"Open In Colab\"/></a>"
      ]
    },
    {
      "cell_type": "code",
      "metadata": {
        "colab": {
          "base_uri": "https://localhost:8080/"
        },
        "id": "N56EJQV7euTy",
        "outputId": "9ba9e213-502a-40ba-fc71-533e0d7c0e3c"
      },
      "source": [
        "cd /content/drive/MyDrive/Colab Notebooks"
      ],
      "execution_count": 1,
      "outputs": [
        {
          "output_type": "stream",
          "text": [
            "/content/drive/MyDrive/Colab Notebooks\n"
          ],
          "name": "stdout"
        }
      ]
    },
    {
      "cell_type": "code",
      "metadata": {
        "colab": {
          "base_uri": "https://localhost:8080/"
        },
        "id": "ekoIbhgUfMtT",
        "outputId": "e11cb153-56af-4671-8188-50c618825961"
      },
      "source": [
        "ls"
      ],
      "execution_count": 2,
      "outputs": [
        {
          "output_type": "stream",
          "text": [
            "\u001b[0m\u001b[01;34mdaun\u001b[0m/    Untitled0.ipynb  Untitled2.ipynb  Untitled4.ipynb\n",
            "\u001b[01;34mpython\u001b[0m/  Untitled1.ipynb  Untitled3.ipynb  Untitled5.ipynb\n"
          ],
          "name": "stdout"
        }
      ]
    },
    {
      "cell_type": "code",
      "metadata": {
        "id": "rNZdzlHBfRBy"
      },
      "source": [
        "# import the necessary packages\n",
        "from keras.models import Sequential\n",
        "from keras.layers.core import Activation\n",
        "from keras.layers.core import Flatten\n",
        "from keras.layers.core import Dense\n",
        "from keras.optimizers import Adam\n",
        "from sklearn.preprocessing import LabelBinarizer\n",
        "from sklearn.model_selection import train_test_split\n",
        "from sklearn.metrics import classification_report\n",
        "from PIL import Image\n",
        "from imutils import paths\n",
        "import numpy as np\n",
        "import os"
      ],
      "execution_count": 3,
      "outputs": []
    },
    {
      "cell_type": "code",
      "metadata": {
        "colab": {
          "base_uri": "https://localhost:8080/"
        },
        "id": "_0oArofhfUxz",
        "outputId": "dc5eb755-7c6e-4197-d95b-ea9277dc2b6c"
      },
      "source": [
        "# grab all image paths in the input dataset directory, then initialize\n",
        "# our list of images and corresponding class labels\n",
        "print(\"[INFO] loading images...\")\n",
        "imagePaths = paths.list_images(\"daun\")\n",
        "data = []\n",
        "labels = []"
      ],
      "execution_count": 4,
      "outputs": [
        {
          "output_type": "stream",
          "text": [
            "[INFO] loading images...\n"
          ],
          "name": "stdout"
        }
      ]
    },
    {
      "cell_type": "code",
      "metadata": {
        "id": "xB9dUqQHfaab"
      },
      "source": [
        "# loop over our input images\n",
        "for imagePath in imagePaths:\n",
        "\t# load the input image from disk, resize it to 32X32 pixels, scale\n",
        "\t# the pixel intensities to the range [0, 1], and then update our\n",
        "\t# images list\n",
        "\timage = Image.open(imagePath)\n",
        "  #preprocessing\n",
        "\timage = np.array(image.resize((32, 32))) / 255.0 #normalisasi\n",
        "\tdata.append(image)\n",
        "\n",
        "\t# extract the class label from the file path and update the\n",
        "\t# labels list\n",
        "\tlabel = imagePath.split(os.path.sep)[-2]\n",
        "\tlabels.append(label)"
      ],
      "execution_count": 5,
      "outputs": []
    },
    {
      "cell_type": "code",
      "metadata": {
        "colab": {
          "base_uri": "https://localhost:8080/"
        },
        "id": "_tiSaQIlmf0E",
        "outputId": "716b9050-22a6-4f0b-cd93-0859f3f4bed9"
      },
      "source": [
        "print(labels)"
      ],
      "execution_count": 6,
      "outputs": [
        {
          "output_type": "stream",
          "text": [
            "['GMB_11', 'GMB_11', 'GMB_11', 'GMB_11', 'GMB_11', 'GMB_11', 'GMB_11', 'GMB_11', 'GMB_11', 'GMB_11', 'GMB_11', 'GMB_11', 'GMB_11', 'GMB_11', 'GMB_11', 'GMB_11', 'GMB_11', 'GMB_11', 'GMB_11', 'GMB_11', 'GMB_11', 'GMB_11', 'GMB_11', 'GMB_11', 'GMB_11', 'GMB_11', 'GMB_11', 'GMB_11', 'GMB_11', 'GMB_11', 'GMB_11', 'GMB_11', 'GMB_11', 'GMB_11', 'GMB_11', 'GMB_11', 'GMB_11', 'GMB_11', 'GMB_11', 'GMB_11', 'GMB_11', 'GMB_11', 'GMB_11', 'GMB_11', 'GMB_11', 'GMB_11', 'GMB_11', 'GMB_11', 'GMB_11', 'GMB_11', 'GMB_11', 'GMB_11', 'GMB_11', 'GMB_11', 'GMB_11', 'GMB_11', 'GMB_11', 'GMB_11', 'GMB_11', 'GMB_11', 'GMB_11', 'GMB_11', 'GMB_11', 'GMB_11', 'GMB_11', 'GMB_11', 'GMB_11', 'GMB_11', 'GMB_11', 'GMB_11', 'GMB_11', 'GMB_11', 'GMB_11', 'GMB_11', 'GMB_11', 'GMB_11', 'GMB_11', 'GMB_11', 'GMB_11', 'GMB_11', 'GMB_11', 'GMB_11', 'GMB_11', 'GMB_11', 'GMB_11', 'GMB_11', 'GMB_11', 'GMB_11', 'GMB_11', 'GMB_11', 'GMB_11', 'GMB_11', 'GMB_11', 'GMB_11', 'GMB_11', 'GMB_11', 'GMB_11', 'GMB_11', 'GMB_11', 'GMB_11', 'GMB_11', 'GMB_11', 'GMB_11', 'GMB_11', 'GMB_11', 'GMB_11', 'GMB_11', 'GMB_11', 'GMB_11', 'GMB_11', 'GMB_11', 'GMB_11', 'GMB_11', 'GMB_11', 'GMB_11', 'GMB_11', 'GMB_11', 'GMB_11', 'GMB_11', 'GMB_11', 'GMB_11', 'GMB_11', 'GMB_11', 'GMB_11', 'GMB_11', 'GMB_11', 'GMB_11', 'GMB_11', 'GMB_11', 'GMB_05', 'GMB_05', 'GMB_05', 'GMB_05', 'GMB_05', 'GMB_05', 'GMB_05', 'GMB_05', 'GMB_05', 'GMB_05', 'GMB_05', 'GMB_05', 'GMB_05', 'GMB_05', 'GMB_05', 'GMB_05', 'GMB_05', 'GMB_05', 'GMB_05', 'GMB_05', 'GMB_05', 'GMB_05', 'GMB_05', 'GMB_05', 'GMB_05', 'GMB_05', 'GMB_05', 'GMB_05', 'GMB_05', 'GMB_05', 'GMB_05', 'GMB_05', 'GMB_05', 'GMB_05', 'GMB_05', 'GMB_05', 'GMB_05', 'GMB_05', 'GMB_05', 'GMB_05', 'GMB_05', 'GMB_05', 'GMB_05', 'GMB_05', 'GMB_05', 'GMB_05', 'GMB_05', 'GMB_05', 'GMB_05', 'GMB_05', 'GMB_05', 'GMB_05', 'GMB_05', 'GMB_05', 'GMB_05', 'GMB_05', 'GMB_05', 'GMB_05', 'GMB_05', 'GMB_05', 'GMB_05', 'GMB_05', 'GMB_05', 'GMB_05', 'GMB_05', 'GMB_05', 'GMB_05', 'GMB_05', 'GMB_05', 'GMB_05', 'GMB_05', 'GMB_05', 'GMB_05', 'GMB_05', 'GMB_05', 'GMB_05', 'GMB_05', 'GMB_05', 'GMB_05', 'GMB_05', 'GMB_05', 'GMB_05', 'GMB_05', 'GMB_05', 'GMB_05', 'GMB_05', 'GMB_05', 'GMB_05', 'GMB_05', 'GMB_05', 'GMB_05', 'GMB_05', 'GMB_05', 'GMB_05', 'GMB_05', 'GMB_05', 'GMB_05', 'GMB_05', 'GMB_05', 'GMB_05', 'GMB_05', 'GMB_05', 'GMB_05', 'GMB_05', 'GMB_05', 'GMB_05', 'GMB_05', 'GMB_05', 'GMB_05', 'GMB_05', 'GMB_05', 'GMB_05', 'GMB_05', 'GMB_05', 'GMB_05', 'GMB_05', 'GMB_05', 'GMB_05', 'GMB_05', 'GMB_05', 'GMB_05', 'GMB_09', 'GMB_09', 'GMB_09', 'GMB_09', 'GMB_09', 'GMB_09', 'GMB_09', 'GMB_09', 'GMB_09', 'GMB_09', 'GMB_09', 'GMB_09', 'GMB_09', 'GMB_09', 'GMB_09', 'GMB_09', 'GMB_09', 'GMB_09', 'GMB_09', 'GMB_09', 'GMB_09', 'GMB_09', 'GMB_09', 'GMB_09', 'GMB_09', 'GMB_09', 'GMB_09', 'GMB_09', 'GMB_09', 'GMB_09', 'GMB_09', 'GMB_09', 'GMB_09', 'GMB_09', 'GMB_09', 'GMB_09', 'GMB_09', 'GMB_09', 'GMB_09', 'GMB_09', 'GMB_09', 'GMB_09', 'GMB_09', 'GMB_09', 'GMB_09', 'GMB_09', 'GMB_09', 'GMB_09', 'GMB_09', 'GMB_09', 'GMB_09', 'GMB_09', 'GMB_09', 'GMB_09', 'GMB_09', 'GMB_09', 'GMB_09', 'GMB_09', 'GMB_09', 'GMB_09', 'GMB_09', 'GMB_09', 'GMB_09', 'GMB_09', 'GMB_09', 'GMB_09', 'GMB_09', 'GMB_09', 'GMB_09', 'GMB_09', 'GMB_09', 'GMB_09', 'GMB_09', 'GMB_09', 'GMB_09', 'GMB_09', 'GMB_09', 'GMB_09', 'GMB_09', 'GMB_09', 'GMB_09', 'GMB_09', 'GMB_09', 'GMB_09', 'GMB_09', 'GMB_09', 'GMB_09', 'GMB_09', 'GMB_09', 'GMB_09', 'GMB_09', 'GMB_09', 'GMB_09', 'GMB_09', 'GMB_09', 'GMB_09', 'GMB_09', 'GMB_09', 'GMB_09', 'GMB_09', 'GMB_09', 'GMB_09', 'GMB_09', 'GMB_09', 'GMB_09', 'GMB_09', 'GMB_09', 'GMB_09', 'GMB_09', 'GMB_09', 'GMB_09', 'GMB_09', 'GMB_09', 'GMB_09', 'GMB_09', 'GMB_03', 'GMB_03', 'GMB_03', 'GMB_03', 'GMB_03', 'GMB_03', 'GMB_03', 'GMB_03', 'GMB_03', 'GMB_03', 'GMB_03', 'GMB_03', 'GMB_03', 'GMB_03', 'GMB_03', 'GMB_03', 'GMB_03', 'GMB_03', 'GMB_03', 'GMB_03', 'GMB_03', 'GMB_03', 'GMB_03', 'GMB_03', 'GMB_03', 'GMB_03', 'GMB_03', 'GMB_03', 'GMB_03', 'GMB_03', 'GMB_03', 'GMB_03', 'GMB_03', 'GMB_03', 'GMB_03', 'GMB_03', 'GMB_03', 'GMB_03', 'GMB_03', 'GMB_03', 'GMB_03', 'GMB_03', 'GMB_03', 'GMB_03', 'GMB_03', 'GMB_03', 'GMB_03', 'GMB_03', 'GMB_03', 'GMB_03', 'GMB_03', 'GMB_03', 'GMB_03', 'GMB_03', 'GMB_03', 'GMB_03', 'GMB_03', 'GMB_03', 'GMB_03', 'GMB_03', 'GMB_03', 'GMB_03', 'GMB_03', 'GMB_03', 'GMB_03', 'GMB_03', 'GMB_03', 'GMB_03', 'GMB_03', 'GMB_03', 'GMB_03', 'GMB_03', 'GMB_03', 'GMB_03', 'GMB_03', 'GMB_03', 'GMB_03', 'GMB_03', 'GMB_03', 'GMB_03', 'GMB_03', 'GMB_03', 'GMB_03', 'GMB_03', 'GMB_03', 'GMB_03', 'GMB_03', 'GMB_03', 'GMB_03', 'GMB_03', 'GMB_03', 'GMB_03', 'GMB_03', 'GMB_03', 'GMB_03', 'GMB_03', 'GMB_03', 'GMB_03', 'GMB_03', 'GMB_03', 'GMB_03', 'GMB_03', 'GMB_03', 'GMB_03', 'GMB_03', 'GMB_03', 'GMB_03', 'GMB_03', 'GMB_03', 'GMB_03', 'GMB_03', 'GMB_03', 'GMB_07', 'GMB_07', 'GMB_07', 'GMB_07', 'GMB_07', 'GMB_07', 'GMB_07', 'GMB_07', 'GMB_07', 'GMB_07', 'GMB_07', 'GMB_07', 'GMB_07', 'GMB_07', 'GMB_07', 'GMB_07', 'GMB_07', 'GMB_07', 'GMB_07', 'GMB_07', 'GMB_07', 'GMB_07', 'GMB_07', 'GMB_07', 'GMB_07', 'GMB_07', 'GMB_07', 'GMB_07', 'GMB_07', 'GMB_07', 'GMB_07', 'GMB_07', 'GMB_07', 'GMB_07', 'GMB_07', 'GMB_07', 'GMB_07', 'GMB_07', 'GMB_07', 'GMB_07', 'GMB_07', 'GMB_07', 'GMB_07', 'GMB_07', 'GMB_07', 'GMB_07', 'GMB_07', 'GMB_07', 'GMB_07', 'GMB_07', 'GMB_07', 'GMB_07', 'GMB_07', 'GMB_07', 'GMB_07', 'GMB_07', 'GMB_07', 'GMB_07', 'GMB_07', 'GMB_07', 'GMB_07', 'GMB_07', 'GMB_07', 'GMB_07', 'GMB_07', 'GMB_07', 'GMB_07', 'GMB_07', 'GMB_07', 'GMB_07', 'GMB_07', 'GMB_07', 'GMB_07', 'GMB_07', 'GMB_07', 'GMB_07', 'GMB_07', 'GMB_07', 'GMB_07', 'GMB_07', 'GMB_07', 'GMB_07', 'GMB_07', 'GMB_07', 'GMB_07', 'GMB_07', 'GMB_07', 'GMB_07', 'GMB_07', 'GMB_07', 'GMB_07', 'GMB_07', 'GMB_07', 'GMB_07', 'GMB_07', 'GMB_07', 'GMB_07', 'GMB_07', 'GMB_07', 'GMB_07', 'GMB_07', 'GMB_07', 'GMB_07', 'GMB_07', 'GMB_07', 'GMB_07', 'GMB_07', 'GMB_07', 'GMB_07', 'GMB_07', 'GMB_07', 'GMB_07', 'GMB_07', 'GMB_07', 'GMB_07', 'GMB_07', 'GMB_07', 'GMB_07', 'GMB_07', 'GMB_07', 'GMB_07']\n"
          ],
          "name": "stdout"
        }
      ]
    },
    {
      "cell_type": "code",
      "metadata": {
        "id": "TMugXAC8ml-z"
      },
      "source": [
        "lb = LabelBinarizer()\n",
        "labels = lb.fit_transform(labels)"
      ],
      "execution_count": 7,
      "outputs": []
    },
    {
      "cell_type": "code",
      "metadata": {
        "colab": {
          "base_uri": "https://localhost:8080/"
        },
        "id": "xnG3K0Jemoc7",
        "outputId": "55d68535-567b-4cd4-e960-a818b8722c9b"
      },
      "source": [
        "print(labels)"
      ],
      "execution_count": 8,
      "outputs": [
        {
          "output_type": "stream",
          "text": [
            "[[0 0 0 0 1]\n",
            " [0 0 0 0 1]\n",
            " [0 0 0 0 1]\n",
            " ...\n",
            " [0 0 1 0 0]\n",
            " [0 0 1 0 0]\n",
            " [0 0 1 0 0]]\n"
          ],
          "name": "stdout"
        }
      ]
    },
    {
      "cell_type": "code",
      "metadata": {
        "colab": {
          "base_uri": "https://localhost:8080/"
        },
        "id": "dTRfUGD7msQM",
        "outputId": "7ec2f087-da7e-48da-cf11-e29fffb91285"
      },
      "source": [
        "# perform a training and testing split, using 75% of the data for\n",
        "# training and 25% for evaluation\n",
        "(trainX, testX, trainY, testY) = train_test_split(np.array(data),\tnp.array(labels), test_size=0.25, shuffle=True)\n",
        "print(trainX.shape)\n",
        "print(testX.shape)"
      ],
      "execution_count": 9,
      "outputs": [
        {
          "output_type": "stream",
          "text": [
            "(448, 32, 32, 3)\n",
            "(150, 32, 32, 3)\n"
          ],
          "name": "stdout"
        }
      ]
    },
    {
      "cell_type": "code",
      "metadata": {
        "colab": {
          "base_uri": "https://localhost:8080/"
        },
        "id": "p3AkPQS-mvKr",
        "outputId": "e842a5f5-c8a6-450d-a4a7-48f5226fa30e"
      },
      "source": [
        "from keras.layers import Convolution2D, MaxPooling2D\n",
        "from keras.models import Sequential\n",
        "from keras.layers.core import Flatten, Dense\n",
        "\n",
        "model1 = Sequential()\n",
        "model1.add(Convolution2D(32, (3,3), activation='relu', input_shape=(32,32,3)))\n",
        "model1.add(MaxPooling2D(2,2))\n",
        "model1.add(Convolution2D(64, (3,3), activation='relu'))\n",
        "model1.add(MaxPooling2D(2,2))\n",
        "model1.add(Convolution2D(64, (3,3), activation='relu'))\n",
        "model1.add(MaxPooling2D(2,2))\n",
        "#fully connected layer\n",
        "model1.add(Flatten())\n",
        "model1.add(Dense(100, activation='relu'))\n",
        "model1.add(Dense(5, activation='softmax'))\n",
        "\n",
        "model1.summary()"
      ],
      "execution_count": 10,
      "outputs": [
        {
          "output_type": "stream",
          "text": [
            "Model: \"sequential\"\n",
            "_________________________________________________________________\n",
            "Layer (type)                 Output Shape              Param #   \n",
            "=================================================================\n",
            "conv2d (Conv2D)              (None, 30, 30, 32)        896       \n",
            "_________________________________________________________________\n",
            "max_pooling2d (MaxPooling2D) (None, 15, 15, 32)        0         \n",
            "_________________________________________________________________\n",
            "conv2d_1 (Conv2D)            (None, 13, 13, 64)        18496     \n",
            "_________________________________________________________________\n",
            "max_pooling2d_1 (MaxPooling2 (None, 6, 6, 64)          0         \n",
            "_________________________________________________________________\n",
            "conv2d_2 (Conv2D)            (None, 4, 4, 64)          36928     \n",
            "_________________________________________________________________\n",
            "max_pooling2d_2 (MaxPooling2 (None, 2, 2, 64)          0         \n",
            "_________________________________________________________________\n",
            "flatten (Flatten)            (None, 256)               0         \n",
            "_________________________________________________________________\n",
            "dense (Dense)                (None, 100)               25700     \n",
            "_________________________________________________________________\n",
            "dense_1 (Dense)              (None, 5)                 505       \n",
            "=================================================================\n",
            "Total params: 82,525\n",
            "Trainable params: 82,525\n",
            "Non-trainable params: 0\n",
            "_________________________________________________________________\n"
          ],
          "name": "stdout"
        }
      ]
    },
    {
      "cell_type": "code",
      "metadata": {
        "colab": {
          "base_uri": "https://localhost:8080/"
        },
        "id": "W1QHegThmzRl",
        "outputId": "76a1db21-cb57-498b-916d-3ebe1131aed6"
      },
      "source": [
        "# train the model using the Adam optimizer\n",
        "print(\"[INFO] training network...\")\n",
        "opt = Adam(lr=1e-3, decay=1e-3 / 50)\n",
        "model1.compile(loss=\"categorical_crossentropy\", optimizer=opt, metrics=[\"accuracy\"])"
      ],
      "execution_count": 11,
      "outputs": [
        {
          "output_type": "stream",
          "text": [
            "[INFO] training network...\n"
          ],
          "name": "stdout"
        }
      ]
    },
    {
      "cell_type": "code",
      "metadata": {
        "colab": {
          "base_uri": "https://localhost:8080/"
        },
        "id": "AoX4pMt8m2GD",
        "outputId": "30197cc5-d559-45a5-e6d2-83bcb27d47fb"
      },
      "source": [
        "H = model1.fit(trainX, trainY, validation_data=(testX, testY), epochs=38, batch_size=42)"
      ],
      "execution_count": 12,
      "outputs": [
        {
          "output_type": "stream",
          "text": [
            "Epoch 1/38\n",
            "11/11 [==============================] - 1s 68ms/step - loss: 1.6002 - accuracy: 0.2321 - val_loss: 1.5835 - val_accuracy: 0.1933\n",
            "Epoch 2/38\n",
            "11/11 [==============================] - 1s 52ms/step - loss: 1.5287 - accuracy: 0.3013 - val_loss: 1.5258 - val_accuracy: 0.2533\n",
            "Epoch 3/38\n",
            "11/11 [==============================] - 1s 53ms/step - loss: 1.4143 - accuracy: 0.3862 - val_loss: 1.3797 - val_accuracy: 0.4000\n",
            "Epoch 4/38\n",
            "11/11 [==============================] - 1s 55ms/step - loss: 1.2944 - accuracy: 0.4487 - val_loss: 1.2336 - val_accuracy: 0.4467\n",
            "Epoch 5/38\n",
            "11/11 [==============================] - 1s 53ms/step - loss: 1.1716 - accuracy: 0.4955 - val_loss: 1.2074 - val_accuracy: 0.5533\n",
            "Epoch 6/38\n",
            "11/11 [==============================] - 1s 54ms/step - loss: 1.0876 - accuracy: 0.5335 - val_loss: 1.1159 - val_accuracy: 0.5533\n",
            "Epoch 7/38\n",
            "11/11 [==============================] - 1s 54ms/step - loss: 1.0166 - accuracy: 0.5625 - val_loss: 0.9917 - val_accuracy: 0.5533\n",
            "Epoch 8/38\n",
            "11/11 [==============================] - 1s 53ms/step - loss: 0.9611 - accuracy: 0.6205 - val_loss: 1.0904 - val_accuracy: 0.6067\n",
            "Epoch 9/38\n",
            "11/11 [==============================] - 1s 54ms/step - loss: 0.9199 - accuracy: 0.6250 - val_loss: 0.9148 - val_accuracy: 0.6200\n",
            "Epoch 10/38\n",
            "11/11 [==============================] - 1s 54ms/step - loss: 0.8168 - accuracy: 0.6853 - val_loss: 0.8558 - val_accuracy: 0.6600\n",
            "Epoch 11/38\n",
            "11/11 [==============================] - 1s 54ms/step - loss: 0.7848 - accuracy: 0.7210 - val_loss: 0.9085 - val_accuracy: 0.6533\n",
            "Epoch 12/38\n",
            "11/11 [==============================] - 1s 53ms/step - loss: 0.7353 - accuracy: 0.7344 - val_loss: 0.9502 - val_accuracy: 0.5733\n",
            "Epoch 13/38\n",
            "11/11 [==============================] - 1s 54ms/step - loss: 0.7858 - accuracy: 0.6942 - val_loss: 0.9700 - val_accuracy: 0.6533\n",
            "Epoch 14/38\n",
            "11/11 [==============================] - 1s 54ms/step - loss: 0.7495 - accuracy: 0.7098 - val_loss: 0.8406 - val_accuracy: 0.7067\n",
            "Epoch 15/38\n",
            "11/11 [==============================] - 1s 54ms/step - loss: 0.6682 - accuracy: 0.7612 - val_loss: 0.7000 - val_accuracy: 0.7467\n",
            "Epoch 16/38\n",
            "11/11 [==============================] - 1s 53ms/step - loss: 0.6068 - accuracy: 0.7723 - val_loss: 0.6853 - val_accuracy: 0.7133\n",
            "Epoch 17/38\n",
            "11/11 [==============================] - 1s 55ms/step - loss: 0.5750 - accuracy: 0.7902 - val_loss: 0.7851 - val_accuracy: 0.6400\n",
            "Epoch 18/38\n",
            "11/11 [==============================] - 1s 54ms/step - loss: 0.5360 - accuracy: 0.7969 - val_loss: 0.6424 - val_accuracy: 0.7733\n",
            "Epoch 19/38\n",
            "11/11 [==============================] - 1s 53ms/step - loss: 0.4828 - accuracy: 0.8058 - val_loss: 0.5805 - val_accuracy: 0.7600\n",
            "Epoch 20/38\n",
            "11/11 [==============================] - 1s 55ms/step - loss: 0.4512 - accuracy: 0.8393 - val_loss: 0.6287 - val_accuracy: 0.7733\n",
            "Epoch 21/38\n",
            "11/11 [==============================] - 1s 54ms/step - loss: 0.4883 - accuracy: 0.8170 - val_loss: 0.6122 - val_accuracy: 0.7200\n",
            "Epoch 22/38\n",
            "11/11 [==============================] - 1s 54ms/step - loss: 0.4495 - accuracy: 0.8237 - val_loss: 0.5780 - val_accuracy: 0.7533\n",
            "Epoch 23/38\n",
            "11/11 [==============================] - 1s 55ms/step - loss: 0.4283 - accuracy: 0.8460 - val_loss: 0.6932 - val_accuracy: 0.7867\n",
            "Epoch 24/38\n",
            "11/11 [==============================] - 1s 54ms/step - loss: 0.4654 - accuracy: 0.8326 - val_loss: 0.7294 - val_accuracy: 0.6933\n",
            "Epoch 25/38\n",
            "11/11 [==============================] - 1s 54ms/step - loss: 0.4497 - accuracy: 0.8192 - val_loss: 0.7722 - val_accuracy: 0.6867\n",
            "Epoch 26/38\n",
            "11/11 [==============================] - 1s 57ms/step - loss: 0.5071 - accuracy: 0.7746 - val_loss: 0.6415 - val_accuracy: 0.7600\n",
            "Epoch 27/38\n",
            "11/11 [==============================] - 1s 54ms/step - loss: 0.5006 - accuracy: 0.8080 - val_loss: 0.6505 - val_accuracy: 0.7733\n",
            "Epoch 28/38\n",
            "11/11 [==============================] - 1s 55ms/step - loss: 0.3925 - accuracy: 0.8594 - val_loss: 0.6105 - val_accuracy: 0.8267\n",
            "Epoch 29/38\n",
            "11/11 [==============================] - 1s 57ms/step - loss: 0.3404 - accuracy: 0.8594 - val_loss: 0.5760 - val_accuracy: 0.7867\n",
            "Epoch 30/38\n",
            "11/11 [==============================] - 1s 54ms/step - loss: 0.3267 - accuracy: 0.8750 - val_loss: 0.5891 - val_accuracy: 0.7800\n",
            "Epoch 31/38\n",
            "11/11 [==============================] - 1s 54ms/step - loss: 0.2957 - accuracy: 0.8929 - val_loss: 0.5420 - val_accuracy: 0.8133\n",
            "Epoch 32/38\n",
            "11/11 [==============================] - 1s 54ms/step - loss: 0.2631 - accuracy: 0.9107 - val_loss: 0.5231 - val_accuracy: 0.8200\n",
            "Epoch 33/38\n",
            "11/11 [==============================] - 1s 53ms/step - loss: 0.2775 - accuracy: 0.9129 - val_loss: 0.4967 - val_accuracy: 0.8000\n",
            "Epoch 34/38\n",
            "11/11 [==============================] - 1s 54ms/step - loss: 0.2960 - accuracy: 0.8929 - val_loss: 0.5130 - val_accuracy: 0.8267\n",
            "Epoch 35/38\n",
            "11/11 [==============================] - 1s 55ms/step - loss: 0.2548 - accuracy: 0.9040 - val_loss: 0.4783 - val_accuracy: 0.8333\n",
            "Epoch 36/38\n",
            "11/11 [==============================] - 1s 53ms/step - loss: 0.2262 - accuracy: 0.9353 - val_loss: 0.4779 - val_accuracy: 0.8133\n",
            "Epoch 37/38\n",
            "11/11 [==============================] - 1s 55ms/step - loss: 0.2282 - accuracy: 0.9219 - val_loss: 0.5764 - val_accuracy: 0.8200\n",
            "Epoch 38/38\n",
            "11/11 [==============================] - 1s 55ms/step - loss: 0.1949 - accuracy: 0.9397 - val_loss: 0.4695 - val_accuracy: 0.8600\n"
          ],
          "name": "stdout"
        }
      ]
    },
    {
      "cell_type": "code",
      "metadata": {
        "colab": {
          "base_uri": "https://localhost:8080/",
          "height": 590
        },
        "id": "xA3yoHD0nD7D",
        "outputId": "8aec2eeb-5428-4e92-80fa-15dc11e6b6b2"
      },
      "source": [
        "import matplotlib.pyplot as plt\n",
        "\n",
        "print(H.history.keys())\n",
        "# summarize history for accuracy\n",
        "plt.plot(H.history['accuracy'])\n",
        "plt.plot(H.history['val_accuracy'])\n",
        "plt.title('model accuracy')\n",
        "plt.ylabel('accuracy')\n",
        "plt.xlabel('epoch')\n",
        "plt.legend(['train', 'test'], loc='upper left')\n",
        "plt.show()\n",
        "# summarize history for loss\n",
        "plt.plot(H.history['loss'])\n",
        "plt.plot(H.history['val_loss'])\n",
        "plt.title('model loss')\n",
        "plt.ylabel('loss')\n",
        "plt.xlabel('epoch')\n",
        "plt.legend(['train', 'test'], loc='upper left')\n",
        "plt.show()"
      ],
      "execution_count": 13,
      "outputs": [
        {
          "output_type": "stream",
          "text": [
            "dict_keys(['loss', 'accuracy', 'val_loss', 'val_accuracy'])\n"
          ],
          "name": "stdout"
        },
        {
          "output_type": "display_data",
          "data": {
            "image/png": "[encoded data removed]",
            "text/plain": [
              "<Figure size 432x288 with 1 Axes>"
            ]
          },
          "metadata": {
            "tags": [],
            "needs_background": "light"
          }
        },
        {
          "output_type": "display_data",
          "data": {
            "image/png": "[encoded data removed]",
            "text/plain": [
              "<Figure size 432x288 with 1 Axes>"
            ]
          },
          "metadata": {
            "tags": [],
            "needs_background": "light"
          }
        }
      ]
    },
    {
      "cell_type": "code",
      "metadata": {
        "colab": {
          "base_uri": "https://localhost:8080/"
        },
        "id": "FbGUONYlnH37",
        "outputId": "1fa6f1d9-3cc0-42fa-968c-fb84a4ec125f"
      },
      "source": [
        "# evaluate the network\n",
        "print(\"[INFO] evaluating network...\")\n",
        "predictions = model1.predict(testX, batch_size=42)\n",
        "print(classification_report(testY.argmax(axis=1),\n",
        "predictions.argmax(axis=1), target_names=lb.classes_))"
      ],
      "execution_count": 14,
      "outputs": [
        {
          "output_type": "stream",
          "text": [
            "[INFO] evaluating network...\n",
            "              precision    recall  f1-score   support\n",
            "\n",
            "      GMB_03       1.00      0.93      0.96        28\n",
            "      GMB_05       0.92      0.71      0.80        34\n",
            "      GMB_07       0.79      0.87      0.83        30\n",
            "      GMB_09       0.78      1.00      0.88        18\n",
            "      GMB_11       0.83      0.88      0.85        40\n",
            "\n",
            "    accuracy                           0.86       150\n",
            "   macro avg       0.87      0.88      0.86       150\n",
            "weighted avg       0.87      0.86      0.86       150\n",
            "\n"
          ],
          "name": "stdout"
        }
      ]
    }
  ]
}